{
 "cells": [
  {
   "cell_type": "markdown",
   "metadata": {},
   "source": [
    "# CNN "
   ]
  },
  {
   "cell_type": "code",
   "execution_count": 2,
   "metadata": {},
   "outputs": [],
   "source": [
    "import numpy as np\n",
    "import pandas as pd\n",
    "import tensorflow as tf\n",
    "from PIL import Image\n",
    "import matplotlib.pyplot as plt\n",
    "from tensorflow import keras\n",
    "from tensorflow.keras import layers\n",
    "from keras.models import Sequential\n",
    "from keras.layers import Conv2D\n",
    "from keras.layers import MaxPooling2D\n",
    "from keras.layers import Flatten\n",
    "from keras.layers import Dense\n",
    "from keras.preprocessing.image import ImageDataGenerator, load_img"
   ]
  },
  {
   "cell_type": "markdown",
   "metadata": {},
   "source": [
    "### Neural Networks \n",
    "- With changed zoom, shear and brightness"
   ]
  },
  {
   "cell_type": "markdown",
   "metadata": {},
   "source": [
    "Building cnn model"
   ]
  },
  {
   "cell_type": "code",
   "execution_count": 5,
   "metadata": {},
   "outputs": [],
   "source": [
    "cnn_base = Sequential()"
   ]
  },
  {
   "cell_type": "code",
   "execution_count": 6,
   "metadata": {},
   "outputs": [],
   "source": [
    "#Convolution\n",
    "cnn_base.add(Conv2D(32, (3, 3), activation=\"relu\", input_shape=(150, 150, 3)))"
   ]
  },
  {
   "cell_type": "code",
   "execution_count": 7,
   "metadata": {},
   "outputs": [],
   "source": [
    "# pooling \n",
    "cnn_base.add(MaxPooling2D(pool_size = (2, 2)))"
   ]
  },
  {
   "cell_type": "code",
   "execution_count": 9,
   "metadata": {},
   "outputs": [],
   "source": [
    "#2nd Convulation \n",
    "cnn_base.add(Conv2D(32, (3, 3), activation=\"relu\"))"
   ]
  },
  {
   "cell_type": "code",
   "execution_count": 11,
   "metadata": {},
   "outputs": [],
   "source": [
    "# 2nd pooling layer \n",
    "cnn_base.add(MaxPooling2D(pool_size = (2, 2)))"
   ]
  },
  {
   "cell_type": "code",
   "execution_count": 13,
   "metadata": {},
   "outputs": [],
   "source": [
    "# flatten \n",
    "cnn_base.add(Flatten())"
   ]
  },
  {
   "cell_type": "code",
   "execution_count": 14,
   "metadata": {},
   "outputs": [],
   "source": [
    "# connect layers \n",
    "cnn_base.add(Dense(activation = 'relu', units = 128))\n",
    "cnn_base.add(Dense(activation = 'sigmoid', units = 1))"
   ]
  },
  {
   "cell_type": "code",
   "execution_count": 15,
   "metadata": {},
   "outputs": [],
   "source": [
    "#compile the network \n",
    "cnn_base.compile(optimizer = 'adam', loss = 'binary_crossentropy', metrics = ['accuracy'])"
   ]
  },
  {
   "cell_type": "code",
   "execution_count": 12,
   "metadata": {},
   "outputs": [],
   "source": [
    "# augments image by iteratting through image \n",
    "train_datagen = ImageDataGenerator(rescale = 1./255)\n",
    "\n",
    "test_datagen = ImageDataGenerator(rescale = 1./255)"
   ]
  },
  {
   "cell_type": "code",
   "execution_count": 13,
   "metadata": {},
   "outputs": [
    {
     "name": "stdout",
     "output_type": "stream",
     "text": [
      "Found 5216 images belonging to 2 classes.\n",
      "Found 16 images belonging to 2 classes.\n",
      "Found 624 images belonging to 2 classes.\n"
     ]
    }
   ],
   "source": [
    "#load data set \n",
    "training_set = train_datagen.flow_from_directory(r'C:\\Users\\tonym\\Documents\\Flatiron\\phase_4\\project_data\\train', \n",
    "                                                target_size = (150,150),\n",
    "                                                batch_size = 16\n",
    "                                                )\n",
    "validation_gen = train_datagen.flow_from_directory(r'C:\\Users\\tonym\\Documents\\Flatiron\\phase_4\\project_data\\val', \n",
    "                                                target_size = (150,150),\n",
    "                                                batch_size = 16\n",
    "                                                )\n",
    "test_set = train_datagen.flow_from_directory(r'C:\\Users\\tonym\\Documents\\Flatiron\\phase_4\\project_data\\test', \n",
    "                                                target_size = (150,150),\n",
    "                                                batch_size = 16\n",
    "                                                )\n"
   ]
  },
  {
   "cell_type": "code",
   "execution_count": 14,
   "metadata": {},
   "outputs": [
    {
     "name": "stdout",
     "output_type": "stream",
     "text": [
      "Model: \"sequential_2\"\n",
      "_________________________________________________________________\n",
      "Layer (type)                 Output Shape              Param #   \n",
      "=================================================================\n",
      "flatten_2 (Flatten)          (None, 67500)             0         \n",
      "_________________________________________________________________\n",
      "dense_4 (Dense)              (None, 64)                4320064   \n",
      "_________________________________________________________________\n",
      "dense_5 (Dense)              (None, 2)                 130       \n",
      "=================================================================\n",
      "Total params: 4,320,194\n",
      "Trainable params: 4,320,194\n",
      "Non-trainable params: 0\n",
      "_________________________________________________________________\n"
     ]
    }
   ],
   "source": [
    "model2 = keras.Sequential(\n",
    "    [\n",
    "        keras.Input(shape= (150,150,3)), \n",
    "        layers.Flatten(), \n",
    "        layers.Dense(64, activation=\"relu\"),\n",
    "        layers.Dense(2, activation=\"sigmoid\"),\n",
    "         ])\n",
    "model2.summary()\n"
   ]
  },
  {
   "cell_type": "code",
   "execution_count": 15,
   "metadata": {},
   "outputs": [],
   "source": [
    "# compile model \n",
    "model2.compile(optimizer = 'adam', loss = 'binary_crossentropy', metrics = ['accuracy'])"
   ]
  },
  {
   "cell_type": "code",
   "execution_count": 16,
   "metadata": {},
   "outputs": [
    {
     "name": "stdout",
     "output_type": "stream",
     "text": [
      "Epoch 1/10\n",
      "52/52 [==============================] - 11s 219ms/step - loss: 3.5817 - accuracy: 0.7356 - val_loss: 5.4538 - val_accuracy: 0.6250\n",
      "Epoch 2/10\n",
      "52/52 [==============================] - 11s 213ms/step - loss: 1.3768 - accuracy: 0.8089 - val_loss: 5.0804 - val_accuracy: 0.5625\n",
      "Epoch 3/10\n",
      "52/52 [==============================] - 11s 204ms/step - loss: 1.6759 - accuracy: 0.8281 - val_loss: 5.9976 - val_accuracy: 0.5625\n",
      "Epoch 4/10\n",
      "52/52 [==============================] - 11s 213ms/step - loss: 0.8371 - accuracy: 0.8377 - val_loss: 1.9720 - val_accuracy: 0.7500\n",
      "Epoch 5/10\n",
      "52/52 [==============================] - 11s 213ms/step - loss: 1.1682 - accuracy: 0.7993 - val_loss: 1.7883 - val_accuracy: 0.7500\n",
      "Epoch 6/10\n",
      "52/52 [==============================] - 11s 206ms/step - loss: 2.3576 - accuracy: 0.8005 - val_loss: 0.9641 - val_accuracy: 0.6250\n",
      "Epoch 7/10\n",
      "52/52 [==============================] - 11s 211ms/step - loss: 0.5898 - accuracy: 0.8101 - val_loss: 2.9710 - val_accuracy: 0.5625\n",
      "Epoch 8/10\n",
      "52/52 [==============================] - 11s 210ms/step - loss: 0.5633 - accuracy: 0.8305 - val_loss: 1.6537 - val_accuracy: 0.6250\n",
      "Epoch 9/10\n",
      "52/52 [==============================] - 11s 208ms/step - loss: 0.3519 - accuracy: 0.8762 - val_loss: 0.9288 - val_accuracy: 0.5625\n",
      "Epoch 10/10\n",
      "52/52 [==============================] - 11s 207ms/step - loss: 0.5186 - accuracy: 0.8329 - val_loss: 0.7871 - val_accuracy: 0.6875\n"
     ]
    }
   ],
   "source": [
    "# fit the model \n",
    "# Fit our model (save output to a history variable)\n",
    "brightmodel = model2.fit_generator(training_set, \n",
    "                    steps_per_epoch =52 ,                     \n",
    "                    epochs=10 , \n",
    "                    validation_data = validation_gen,\n",
    "                    validation_steps = 1)"
   ]
  },
  {
   "cell_type": "code",
   "execution_count": 17,
   "metadata": {},
   "outputs": [
    {
     "name": "stdout",
     "output_type": "stream",
     "text": [
      "1/1 [==============================] - 0s 996us/step - loss: 0.5011 - accuracy: 0.6875\n"
     ]
    }
   ],
   "source": [
    "# checking accuracy \n",
    "test_acc_bright = model2.evaluate(test_set, steps = 1)\n"
   ]
  },
  {
   "cell_type": "code",
   "execution_count": 18,
   "metadata": {},
   "outputs": [
    {
     "name": "stdout",
     "output_type": "stream",
     "text": [
      "test acc is: 68.75 %\n"
     ]
    }
   ],
   "source": [
    "#accuracy \n",
    "print('test acc is:', test_acc_bright[1] * 100, '%')"
   ]
  },
  {
   "cell_type": "markdown",
   "metadata": {},
   "source": [
    "#### Baseline confusion matrix "
   ]
  },
  {
   "cell_type": "code",
   "execution_count": 28,
   "metadata": {},
   "outputs": [],
   "source": [
    "Y_pred = model.predict_generator(test_set,1)\n",
    "y_pred = np.argmax(Y_pred, axis = 1)"
   ]
  },
  {
   "cell_type": "code",
   "execution_count": 29,
   "metadata": {},
   "outputs": [
    {
     "data": {
      "text/plain": [
       "1"
      ]
     },
     "execution_count": 29,
     "metadata": {},
     "output_type": "execute_result"
    }
   ],
   "source": [
    "max(y_pred)"
   ]
  },
  {
   "cell_type": "markdown",
   "metadata": {},
   "source": [
    "### Accuracy Baseline Plot "
   ]
  },
  {
   "cell_type": "code",
   "execution_count": 35,
   "metadata": {
    "scrolled": true
   },
   "outputs": [
    {
     "data": {
      "image/png": "[encoded data removed]",
      "text/plain": [
       "<Figure size 432x288 with 1 Axes>"
      ]
     },
     "metadata": {
      "needs_background": "light"
     },
     "output_type": "display_data"
    }
   ],
   "source": [
    "plt.plot(baseline.history['accuracy'])\n",
    "plt.plot(baseline.history['val_accuracy'])\n",
    "plt.title('Model Accuracy')\n",
    "plt.ylabel('Accuracy')\n",
    "plt.xlabel('Epoch')\n",
    "plt.legend(['Training set', 'Validation set'], loc='lower right')\n",
    "plt.show()"
   ]
  },
  {
   "cell_type": "markdown",
   "metadata": {},
   "source": [
    "### Loss Baseline Plot "
   ]
  },
  {
   "cell_type": "code",
   "execution_count": 36,
   "metadata": {},
   "outputs": [
    {
     "data": {
      "image/png": "[encoded data removed]",
      "text/plain": [
       "<Figure size 432x288 with 1 Axes>"
      ]
     },
     "metadata": {
      "needs_background": "light"
     },
     "output_type": "display_data"
    }
   ],
   "source": [
    "plt.plot(baseline.history['val_loss'])\n",
    "plt.plot(baseline.history['loss'])\n",
    "plt.title('Model Loss')\n",
    "plt.ylabel('Loss')\n",
    "plt.xlabel('Epoch')\n",
    "plt.legend(['Training set', 'Test set'], loc='upper left')\n",
    "plt.show()"
   ]
  },
  {
   "cell_type": "code",
   "execution_count": null,
   "metadata": {},
   "outputs": [],
   "source": []
  },
  {
   "cell_type": "code",
   "execution_count": null,
   "metadata": {},
   "outputs": [],
   "source": []
  }
 ],
 "metadata": {
  "kernelspec": {
   "display_name": "Python (learn-env)",
   "language": "python",
   "name": "learn-env"
  },
  "language_info": {
   "codemirror_mode": {
    "name": "ipython",
    "version": 3
   },
   "file_extension": ".py",
   "mimetype": "text/x-python",
   "name": "python",
   "nbconvert_exporter": "python",
   "pygments_lexer": "ipython3",
   "version": "3.8.5"
  },
  "toc": {
   "base_numbering": 1,
   "nav_menu": {},
   "number_sections": true,
   "sideBar": true,
   "skip_h1_title": false,
   "title_cell": "Table of Contents",
   "title_sidebar": "Contents",
   "toc_cell": false,
   "toc_position": {},
   "toc_section_display": true,
   "toc_window_display": false
  }
 },
 "nbformat": 4,
 "nbformat_minor": 4
}
