{
 "cells": [
  {
   "cell_type": "markdown",
   "metadata": {},
   "source": [
    "# CNN "
   ]
  },
  {
   "cell_type": "code",
   "execution_count": 1,
   "metadata": {},
   "outputs": [],
   "source": [
    "import numpy as np\n",
    "import pandas as pd\n",
    "import tensorflow as tf\n",
    "from PIL import Image\n",
    "import matplotlib.pyplot as plt\n",
    "from tensorflow import keras\n",
    "from tensorflow.keras import layers\n",
    "from keras.models import Sequential\n",
    "from keras.layers import Conv2D, Dropout , BatchNormalization\n",
    "from keras.layers import MaxPooling2D\n",
    "from keras.layers import Flatten\n",
    "from keras.layers import Dense\n",
    "from keras.preprocessing.image import ImageDataGenerator, load_img"
   ]
  },
  {
   "cell_type": "markdown",
   "metadata": {},
   "source": [
    "### Neural Networks \n"
   ]
  },
  {
   "cell_type": "markdown",
   "metadata": {},
   "source": [
    "Building cnn model"
   ]
  },
  {
   "cell_type": "code",
   "execution_count": 10,
   "metadata": {},
   "outputs": [],
   "source": [
    "model = Sequential()\n",
    "model.add(Conv2D(32,(3,3),activation = 'relu',padding='same',input_shape = (150,150,3)))\n",
    "model.add(Conv2D(32,(3,3),activation='relu',padding='same'))\n",
    "model.add(MaxPooling2D())\n",
    "\n",
    "#Layers\n",
    "model.add(Conv2D(32,(3,3),activation='relu',padding='same'))\n",
    "model.add(Conv2D(32,(3,3),activation='relu',padding='same'))\n",
    "model.add(MaxPooling2D())\n",
    "\n",
    "#layers\n",
    "model.add(Conv2D(64,(3,3),activation='relu',padding='same'))\n",
    "model.add(Conv2D(64,(3,3),activation='relu',padding='same'))\n",
    "model.add(MaxPooling2D())\n",
    "\n",
    "#output\n",
    "model.add(Flatten())\n",
    "model.add(Dense(1024, activation='relu'))\n",
    "model.add(Dropout(0.4))\n",
    "model.add(Dense(1, activation='sigmoid'))\n",
    "\n",
    "model.compile(loss='binary_crossentropy',\n",
    "             optimizer ='adam',\n",
    "             metrics=['accuracy'])\n"
   ]
  },
  {
   "cell_type": "code",
   "execution_count": 11,
   "metadata": {},
   "outputs": [],
   "source": [
    "# augments image by iteratting through image \n",
    "train_datagen = ImageDataGenerator(rescale = 1./255, shear_range = 0.2,\n",
    "                                   zoom_range = 0.2, \n",
    "                                   brightness_range = [0.9, 1],\n",
    "                                  validation_split = 0.1,\n",
    "                                  rotation_range = 15,\n",
    "                                  width_shift_range = .1,\n",
    "                                  height_shift_range = .1,\n",
    "                                   \n",
    "                                   \n",
    "                            )\n",
    "\n",
    "test_datagen = ImageDataGenerator(rescale = 1./255)"
   ]
  },
  {
   "cell_type": "code",
   "execution_count": 12,
   "metadata": {},
   "outputs": [],
   "source": [
    "train_dir = r'C:\\Users\\tonym\\Documents\\Flatiron\\phase_4\\project_data\\train'\n",
    "test_dir = r'C:\\Users\\tonym\\Documents\\Flatiron\\phase_4\\project_data\\test'\n",
    "val_dir = r'C:\\Users\\tonym\\Documents\\Flatiron\\phase_4\\project_data\\train'"
   ]
  },
  {
   "cell_type": "code",
   "execution_count": 13,
   "metadata": {},
   "outputs": [
    {
     "name": "stdout",
     "output_type": "stream",
     "text": [
      "Found 4695 images belonging to 2 classes.\n",
      "Found 521 images belonging to 2 classes.\n",
      "Found 624 images belonging to 2 classes.\n"
     ]
    }
   ],
   "source": [
    "#load data set \n",
    "training_set = train_datagen.flow_from_directory(train_dir, \n",
    "                                                target_size = (150,150),\n",
    "                                                batch_size = 16,\n",
    "                                                subset = 'training',\n",
    "                                                seed = 42,\n",
    "                                                class_mode = 'binary'\n",
    "                                                )\n",
    "validation_gen = train_datagen.flow_from_directory(val_dir, \n",
    "                                                target_size = (150,150),\n",
    "                                                batch_size = 16,\n",
    "                                                subset = 'validation',\n",
    "                                                seed = 42,\n",
    "                                                class_mode = 'binary'\n",
    "                                                )\n",
    "test_set = train_datagen.flow_from_directory(test_dir, \n",
    "                                                target_size = (150,150),\n",
    "                                                batch_size = 16,\n",
    "                                                seed = 42,\n",
    "                                                class_mode = 'binary'\n",
    "                                                )\n"
   ]
  },
  {
   "cell_type": "code",
   "execution_count": 14,
   "metadata": {},
   "outputs": [
    {
     "name": "stdout",
     "output_type": "stream",
     "text": [
      "Model: \"sequential_1\"\n",
      "_________________________________________________________________\n",
      "Layer (type)                 Output Shape              Param #   \n",
      "=================================================================\n",
      "conv2d_6 (Conv2D)            (None, 150, 150, 32)      896       \n",
      "_________________________________________________________________\n",
      "conv2d_7 (Conv2D)            (None, 150, 150, 32)      9248      \n",
      "_________________________________________________________________\n",
      "max_pooling2d_3 (MaxPooling2 (None, 75, 75, 32)        0         \n",
      "_________________________________________________________________\n",
      "conv2d_8 (Conv2D)            (None, 75, 75, 32)        9248      \n",
      "_________________________________________________________________\n",
      "conv2d_9 (Conv2D)            (None, 75, 75, 32)        9248      \n",
      "_________________________________________________________________\n",
      "max_pooling2d_4 (MaxPooling2 (None, 37, 37, 32)        0         \n",
      "_________________________________________________________________\n",
      "conv2d_10 (Conv2D)           (None, 37, 37, 64)        18496     \n",
      "_________________________________________________________________\n",
      "conv2d_11 (Conv2D)           (None, 37, 37, 64)        36928     \n",
      "_________________________________________________________________\n",
      "max_pooling2d_5 (MaxPooling2 (None, 18, 18, 64)        0         \n",
      "_________________________________________________________________\n",
      "flatten_1 (Flatten)          (None, 20736)             0         \n",
      "_________________________________________________________________\n",
      "dense_2 (Dense)              (None, 1024)              21234688  \n",
      "_________________________________________________________________\n",
      "dropout_1 (Dropout)          (None, 1024)              0         \n",
      "_________________________________________________________________\n",
      "dense_3 (Dense)              (None, 1)                 1025      \n",
      "=================================================================\n",
      "Total params: 21,319,777\n",
      "Trainable params: 21,319,777\n",
      "Non-trainable params: 0\n",
      "_________________________________________________________________\n"
     ]
    }
   ],
   "source": [
    "model.summary()\n"
   ]
  },
  {
   "cell_type": "code",
   "execution_count": 15,
   "metadata": {},
   "outputs": [],
   "source": [
    "from tensorflow.keras.callbacks import EarlyStopping\n",
    "early_stopping = EarlyStopping(monitor='val_loss', mode='min', verbose=1, patience=2)"
   ]
  },
  {
   "cell_type": "code",
   "execution_count": 16,
   "metadata": {},
   "outputs": [
    {
     "name": "stdout",
     "output_type": "stream",
     "text": [
      "Epoch 1/10\n",
      "146/146 [==============================] - 93s 638ms/step - loss: 0.4610 - accuracy: 0.7851 - val_loss: 0.3447 - val_accuracy: 0.8320\n",
      "Epoch 2/10\n",
      "146/146 [==============================] - 92s 629ms/step - loss: 0.3277 - accuracy: 0.8621 - val_loss: 0.3332 - val_accuracy: 0.8242\n",
      "Epoch 3/10\n",
      "146/146 [==============================] - 78s 535ms/step - loss: 0.2820 - accuracy: 0.8827 - val_loss: 0.3490 - val_accuracy: 0.8438\n",
      "Epoch 4/10\n",
      "146/146 [==============================] - 77s 527ms/step - loss: 0.2706 - accuracy: 0.8926 - val_loss: 0.2521 - val_accuracy: 0.8867\n",
      "Epoch 5/10\n",
      "146/146 [==============================] - 77s 525ms/step - loss: 0.2369 - accuracy: 0.9055 - val_loss: 0.2779 - val_accuracy: 0.8555\n",
      "Epoch 6/10\n",
      "146/146 [==============================] - 77s 526ms/step - loss: 0.2440 - accuracy: 0.8943 - val_loss: 0.2809 - val_accuracy: 0.8867\n",
      "Epoch 00006: early stopping\n"
     ]
    }
   ],
   "source": [
    "model5 = model.fit(training_set,\n",
    "                             steps_per_epoch=4695//32,\n",
    "                             epochs =10,\n",
    "                             validation_data = validation_gen,\n",
    "                             validation_steps= 521//32,\n",
    "                             callbacks=[early_stopping])\n"
   ]
  },
  {
   "cell_type": "code",
   "execution_count": 17,
   "metadata": {},
   "outputs": [
    {
     "name": "stdout",
     "output_type": "stream",
     "text": [
      "39/39 [==============================] - 9s 221ms/step - loss: 0.6451 - accuracy: 0.7500\n"
     ]
    }
   ],
   "source": [
    "# checking accuracy \n",
    "test_acc = model.evaluate(test_set,steps = 1)\n"
   ]
  },
  {
   "cell_type": "code",
   "execution_count": 18,
   "metadata": {},
   "outputs": [
    {
     "name": "stdout",
     "output_type": "stream",
     "text": [
      "test acc is: 75.0 %\n"
     ]
    }
   ],
   "source": [
    "#accuracy \n",
    "print('test acc is:', test_acc[1] * 100, '%')"
   ]
  },
  {
   "cell_type": "markdown",
   "metadata": {},
   "source": [
    "#### Baseline confusion matrix "
   ]
  },
  {
   "cell_type": "markdown",
   "metadata": {},
   "source": [
    "### Accuracy Baseline Plot "
   ]
  },
  {
   "cell_type": "code",
   "execution_count": 20,
   "metadata": {
    "scrolled": true
   },
   "outputs": [
    {
     "data": {
      "image/png": "[encoded data removed]",
      "text/plain": [
       "<Figure size 432x288 with 1 Axes>"
      ]
     },
     "metadata": {
      "needs_background": "light"
     },
     "output_type": "display_data"
    }
   ],
   "source": [
    "plt.plot(model5.history['accuracy'])\n",
    "plt.plot(model5.history['val_accuracy'])\n",
    "plt.title('Model Accuracy')\n",
    "plt.ylabel('Accuracy')\n",
    "plt.xlabel('Epoch')\n",
    "plt.legend(['Training set', 'Validation set'], loc='lower right')\n",
    "plt.show()"
   ]
  },
  {
   "cell_type": "markdown",
   "metadata": {},
   "source": [
    "### Loss Baseline Plot "
   ]
  },
  {
   "cell_type": "code",
   "execution_count": 21,
   "metadata": {},
   "outputs": [
    {
     "data": {
      "image/png": "[encoded data removed]",
      "text/plain": [
       "<Figure size 432x288 with 1 Axes>"
      ]
     },
     "metadata": {
      "needs_background": "light"
     },
     "output_type": "display_data"
    }
   ],
   "source": [
    "plt.plot(model5.history['val_loss'])\n",
    "plt.plot(model5.history['loss'])\n",
    "plt.title('Model Loss')\n",
    "plt.ylabel('Loss')\n",
    "plt.xlabel('Epoch')\n",
    "plt.legend(['Training set', 'Test set'], loc='upper left')\n",
    "plt.show()"
   ]
  },
  {
   "cell_type": "code",
   "execution_count": null,
   "metadata": {},
   "outputs": [],
   "source": []
  },
  {
   "cell_type": "code",
   "execution_count": null,
   "metadata": {},
   "outputs": [],
   "source": []
  }
 ],
 "metadata": {
  "kernelspec": {
   "display_name": "Python (learn-env)",
   "language": "python",
   "name": "learn-env"
  },
  "language_info": {
   "codemirror_mode": {
    "name": "ipython",
    "version": 3
   },
   "file_extension": ".py",
   "mimetype": "text/x-python",
   "name": "python",
   "nbconvert_exporter": "python",
   "pygments_lexer": "ipython3",
   "version": "3.8.5"
  },
  "toc": {
   "base_numbering": 1,
   "nav_menu": {},
   "number_sections": true,
   "sideBar": true,
   "skip_h1_title": false,
   "title_cell": "Table of Contents",
   "title_sidebar": "Contents",
   "toc_cell": false,
   "toc_position": {},
   "toc_section_display": true,
   "toc_window_display": false
  }
 },
 "nbformat": 4,
 "nbformat_minor": 4
}
