{
 "cells": [
  {
   "cell_type": "markdown",
   "metadata": {},
   "source": [
    "# Model 3 "
   ]
  },
  {
   "cell_type": "code",
   "execution_count": 24,
   "metadata": {},
   "outputs": [],
   "source": [
    "import numpy as np\n",
    "import pandas as pd\n",
    "import tensorflow as tf\n",
    "from PIL import Image\n",
    "import matplotlib.pyplot as plt\n",
    "from tensorflow import keras\n",
    "from tensorflow.keras import layers\n",
    "from keras.models import Sequential\n",
    "from keras.layers import Conv2D, Dropout , BatchNormalization\n",
    "from keras.layers import MaxPooling2D\n",
    "from keras.layers import Flatten\n",
    "from keras.layers import Dense\n",
    "from keras.preprocessing.image import ImageDataGenerator, load_img"
   ]
  },
  {
   "cell_type": "markdown",
   "metadata": {},
   "source": [
    "### Neural Networks \n"
   ]
  },
  {
   "cell_type": "code",
   "execution_count": 55,
   "metadata": {},
   "outputs": [],
   "source": [
    "model = Sequential()"
   ]
  },
  {
   "cell_type": "code",
   "execution_count": 56,
   "metadata": {},
   "outputs": [],
   "source": [
    "#Convolution\n",
    "model.add(Conv2D(32, (3, 3), activation=\"relu\", input_shape=(150, 150, 3)))"
   ]
  },
  {
   "cell_type": "code",
   "execution_count": 57,
   "metadata": {},
   "outputs": [],
   "source": [
    "# pooling \n",
    "model.add(MaxPooling2D(pool_size = (2, 2)))"
   ]
  },
  {
   "cell_type": "code",
   "execution_count": 58,
   "metadata": {},
   "outputs": [],
   "source": [
    "#2nd Convulation \n",
    "model.add(Conv2D(32, (3, 3), activation=\"relu\"))"
   ]
  },
  {
   "cell_type": "code",
   "execution_count": 59,
   "metadata": {},
   "outputs": [],
   "source": [
    "# 2nd pooling layer \n",
    "model.add(MaxPooling2D(pool_size = (2, 2)))"
   ]
  },
  {
   "cell_type": "code",
   "execution_count": 60,
   "metadata": {},
   "outputs": [],
   "source": [
    "# flatten \n",
    "model.add(Flatten())"
   ]
  },
  {
   "cell_type": "code",
   "execution_count": 61,
   "metadata": {},
   "outputs": [],
   "source": [
    "# connect layers \n",
    "model.add(Dense(activation = 'relu', units = 128))\n",
    "model.add(Dense(activation = 'sigmoid', units = 1))"
   ]
  },
  {
   "cell_type": "code",
   "execution_count": 62,
   "metadata": {},
   "outputs": [],
   "source": [
    "#compile the network \n",
    "model.compile(optimizer = 'adam', loss = 'binary_crossentropy', metrics = ['accuracy', ['Recall']])"
   ]
  },
  {
   "cell_type": "code",
   "execution_count": 63,
   "metadata": {},
   "outputs": [],
   "source": [
    "# augments image by iteratting through image \n",
    "train_datagen = ImageDataGenerator(rescale = 1./255, shear_range = 0.2,\n",
    "                                   zoom_range = 0.2, \n",
    "                                   brightness_range = [0.9, 1],\n",
    "                                  validation_split = 0.1,\n",
    "                                  rotation_range = 15,\n",
    "                                  width_shift_range = .1,\n",
    "                                  height_shift_range = .1,\n",
    "                                  fill_mode = 'nearest' \n",
    "                                   \n",
    "                                   \n",
    "                            )\n",
    "\n",
    "test_datagen = ImageDataGenerator(rescale = 1./255)"
   ]
  },
  {
   "cell_type": "code",
   "execution_count": 64,
   "metadata": {},
   "outputs": [],
   "source": [
    "train_dir = r'C:\\Users\\tonym\\Documents\\Flatiron\\phase_4\\project_data\\train'\n",
    "test_dir = r'C:\\Users\\tonym\\Documents\\Flatiron\\phase_4\\project_data\\test'\n",
    "val_dir = r'C:\\Users\\tonym\\Documents\\Flatiron\\phase_4\\project_data\\train'"
   ]
  },
  {
   "cell_type": "code",
   "execution_count": 65,
   "metadata": {},
   "outputs": [
    {
     "name": "stdout",
     "output_type": "stream",
     "text": [
      "Found 4695 images belonging to 2 classes.\n",
      "Found 521 images belonging to 2 classes.\n",
      "Found 624 images belonging to 2 classes.\n"
     ]
    }
   ],
   "source": [
    "#load data set \n",
    "training_set = train_datagen.flow_from_directory(train_dir, \n",
    "                                                target_size = (150,150),\n",
    "                                                batch_size = 16,\n",
    "                                                subset = 'training',\n",
    "                                                seed = 42,\n",
    "                                                class_mode = 'binary'\n",
    "                                                )\n",
    "validation_gen = train_datagen.flow_from_directory(val_dir, \n",
    "                                                target_size = (150,150),\n",
    "                                                batch_size = 16,\n",
    "                                                subset = 'validation',\n",
    "                                                seed = 42,\n",
    "                                                class_mode = 'binary'\n",
    "                                                )\n",
    "test_set = train_datagen.flow_from_directory(test_dir, \n",
    "                                                target_size = (150,150),\n",
    "                                                batch_size = 16,\n",
    "                                                seed = 42,\n",
    "                                                class_mode = 'binary'\n",
    "                                                )\n"
   ]
  },
  {
   "cell_type": "code",
   "execution_count": 66,
   "metadata": {},
   "outputs": [
    {
     "name": "stdout",
     "output_type": "stream",
     "text": [
      "Model: \"sequential_3\"\n",
      "_________________________________________________________________\n",
      "Layer (type)                 Output Shape              Param #   \n",
      "=================================================================\n",
      "conv2d_6 (Conv2D)            (None, 148, 148, 32)      896       \n",
      "_________________________________________________________________\n",
      "max_pooling2d_6 (MaxPooling2 (None, 74, 74, 32)        0         \n",
      "_________________________________________________________________\n",
      "conv2d_7 (Conv2D)            (None, 72, 72, 32)        9248      \n",
      "_________________________________________________________________\n",
      "max_pooling2d_7 (MaxPooling2 (None, 36, 36, 32)        0         \n",
      "_________________________________________________________________\n",
      "flatten_3 (Flatten)          (None, 41472)             0         \n",
      "_________________________________________________________________\n",
      "dense_6 (Dense)              (None, 128)               5308544   \n",
      "_________________________________________________________________\n",
      "dense_7 (Dense)              (None, 1)                 129       \n",
      "=================================================================\n",
      "Total params: 5,318,817\n",
      "Trainable params: 5,318,817\n",
      "Non-trainable params: 0\n",
      "_________________________________________________________________\n"
     ]
    }
   ],
   "source": [
    "model.summary()\n"
   ]
  },
  {
   "cell_type": "code",
   "execution_count": 67,
   "metadata": {},
   "outputs": [],
   "source": [
    "from tensorflow.keras.callbacks import EarlyStopping\n",
    "early_stopping = EarlyStopping(monitor='val_loss', mode='min', verbose=1, patience=2)"
   ]
  },
  {
   "cell_type": "code",
   "execution_count": 68,
   "metadata": {},
   "outputs": [
    {
     "name": "stdout",
     "output_type": "stream",
     "text": [
      "Epoch 1/10\n",
      "146/146 [==============================] - 45s 306ms/step - loss: 0.4842 - accuracy: 0.7942 - recall: 0.9421 - val_loss: 0.5379 - val_accuracy: 0.7578 - val_recall: 0.9615\n",
      "Epoch 2/10\n",
      "146/146 [==============================] - 44s 304ms/step - loss: 0.3223 - accuracy: 0.8578 - recall: 0.9240 - val_loss: 0.3351 - val_accuracy: 0.8555 - val_recall: 0.8505\n",
      "Epoch 3/10\n",
      "146/146 [==============================] - 44s 304ms/step - loss: 0.2678 - accuracy: 0.8836 - recall: 0.9328 - val_loss: 0.7081 - val_accuracy: 0.7070 - val_recall: 0.5833\n",
      "Epoch 4/10\n",
      "146/146 [==============================] - 45s 309ms/step - loss: 0.2600 - accuracy: 0.8913 - recall: 0.9356 - val_loss: 0.3370 - val_accuracy: 0.8516 - val_recall: 0.8298\n",
      "Epoch 00004: early stopping\n"
     ]
    }
   ],
   "source": [
    "model6 = model.fit(training_set,\n",
    "                             steps_per_epoch=4695//32,\n",
    "                             epochs =10,\n",
    "                             validation_data = validation_gen,\n",
    "                             validation_steps= 521//32,\n",
    "                             callbacks=[early_stopping])\n"
   ]
  },
  {
   "cell_type": "code",
   "execution_count": 69,
   "metadata": {},
   "outputs": [
    {
     "name": "stdout",
     "output_type": "stream",
     "text": [
      "39/39 [==============================] - 8s 204ms/step - loss: 0.3585 - accuracy: 0.8429 - recall: 0.8769\n"
     ]
    }
   ],
   "source": [
    "# checking accuracy \n",
    "test_acc = model.evaluate(test_set)\n"
   ]
  },
  {
   "cell_type": "code",
   "execution_count": 70,
   "metadata": {},
   "outputs": [
    {
     "name": "stdout",
     "output_type": "stream",
     "text": [
      "test acc is: 84.29487347602844 %\n"
     ]
    }
   ],
   "source": [
    "#accuracy \n",
    "print('test acc is:', test_acc[1] * 100, '%')"
   ]
  },
  {
   "cell_type": "markdown",
   "metadata": {},
   "source": [
    "#### Baseline confusion matrix "
   ]
  },
  {
   "cell_type": "markdown",
   "metadata": {},
   "source": [
    "### Accuracy Baseline Plot "
   ]
  },
  {
   "cell_type": "code",
   "execution_count": 71,
   "metadata": {
    "scrolled": true
   },
   "outputs": [
    {
     "data": {
      "image/png": "[encoded data removed]",
      "text/plain": [
       "<Figure size 432x288 with 1 Axes>"
      ]
     },
     "metadata": {
      "needs_background": "light"
     },
     "output_type": "display_data"
    }
   ],
   "source": [
    "plt.plot(model6.history['accuracy'])\n",
    "plt.plot(model6.history['val_accuracy'])\n",
    "plt.title('Model Accuracy')\n",
    "plt.ylabel('Accuracy')\n",
    "plt.xlabel('Epoch')\n",
    "plt.legend(['Training set', 'Validation set'], loc='lower right')\n",
    "plt.show()"
   ]
  },
  {
   "cell_type": "markdown",
   "metadata": {},
   "source": [
    "### Loss Baseline Plot "
   ]
  },
  {
   "cell_type": "code",
   "execution_count": 72,
   "metadata": {},
   "outputs": [
    {
     "data": {
      "image/png": "[encoded data removed]",
      "text/plain": [
       "<Figure size 432x288 with 1 Axes>"
      ]
     },
     "metadata": {
      "needs_background": "light"
     },
     "output_type": "display_data"
    }
   ],
   "source": [
    "plt.plot(model6.history['val_loss'])\n",
    "plt.plot(model6.history['loss'])\n",
    "plt.title('Model Loss')\n",
    "plt.ylabel('Loss')\n",
    "plt.xlabel('Epoch')\n",
    "plt.legend(['Training set', 'Test set'], loc='upper left')\n",
    "plt.show()"
   ]
  },
  {
   "cell_type": "code",
   "execution_count": null,
   "metadata": {},
   "outputs": [],
   "source": []
  },
  {
   "cell_type": "code",
   "execution_count": null,
   "metadata": {},
   "outputs": [],
   "source": []
  }
 ],
 "metadata": {
  "kernelspec": {
   "display_name": "Python (learn-env)",
   "language": "python",
   "name": "learn-env"
  },
  "language_info": {
   "codemirror_mode": {
    "name": "ipython",
    "version": 3
   },
   "file_extension": ".py",
   "mimetype": "text/x-python",
   "name": "python",
   "nbconvert_exporter": "python",
   "pygments_lexer": "ipython3",
   "version": "3.8.5"
  },
  "toc": {
   "base_numbering": 1,
   "nav_menu": {},
   "number_sections": true,
   "sideBar": true,
   "skip_h1_title": false,
   "title_cell": "Table of Contents",
   "title_sidebar": "Contents",
   "toc_cell": false,
   "toc_position": {},
   "toc_section_display": true,
   "toc_window_display": false
  }
 },
 "nbformat": 4,
 "nbformat_minor": 4
}
